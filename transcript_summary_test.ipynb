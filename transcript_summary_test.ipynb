{
 "cells": [
  {
   "cell_type": "code",
   "execution_count": 68,
   "metadata": {},
   "outputs": [],
   "source": [
    "import PyPDF2\n",
    "import nltk\n",
    "import spacy\n",
    "#nltk.download('stopwords')\n",
    "from nltk.corpus import stopwords, wordnet\n",
    "import string\n",
    "import re"
   ]
  },
  {
   "cell_type": "code",
   "execution_count": 72,
   "metadata": {},
   "outputs": [],
   "source": [
    "# relevant functions\n",
    "def extract_text_from_pdf(pdf_path):\n",
    "    \"\"\"\n",
    "    This function extracts text from a pdf doc into a single stream of text.\n",
    "    \"\"\"\n",
    "    text = \"\"\n",
    "    with open(pdf_path, \"rb\") as pdf_file:\n",
    "        pdf_reader = PyPDF2.PdfReader(pdf_file)\n",
    "        for page_num in range(len(pdf_reader.pages)):\n",
    "            page = pdf_reader.pages[page_num]\n",
    "            text += page.extract_text()\n",
    "    return text\n",
    "\n",
    "def preprocess_text(text: str):\n",
    "    \"\"\"\n",
    "    This function pre-processes the text into a useful format for ML algorithms.\n",
    "    \"\"\"\n",
    "    singles_removed = re.sub(r'\\s+[a-zA-Z]\\s', ' ', text) # remove single characters\n",
    "    tokens = nltk.word_tokenize(singles_removed) # text tokenisation\n",
    "    clean_tokens = [token.lower() for token in tokens if token.isalnum()] # remove non-alphanumeric tokens + lowercase\n",
    "    stop_all = stopwords.words('english') + list(string.punctuation) # define stopwords\n",
    "    stop_removal = [stop for stop in clean_tokens if stop not in stop_all] # remove stopwords\n",
    "    pos_tokens = nltk.pos_tag(stop_removal)\n",
    "\n",
    "    # word lemmatisation\n",
    "    def get_wordnet_pos(treebank_tag):\n",
    "        \"\"\"\n",
    "        Map POS tag to first character used by WordNetLemmatizer.\n",
    "        \"\"\"\n",
    "        if treebank_tag.startswith('A'):\n",
    "            return wordnet.ADJ\n",
    "        elif treebank_tag.startswith('V'):\n",
    "            return wordnet.VERB\n",
    "        elif treebank_tag.startswith('N'):\n",
    "            return wordnet.NOUN\n",
    "        elif treebank_tag.startswith('R'):\n",
    "            return wordnet.ADV\n",
    "        else:\n",
    "            return wordnet.NOUN  # noun if POS tag is not recognized\n",
    "\n",
    "    lemmatizer = nltk.stem.WordNetLemmatizer()\n",
    "    stems = []\n",
    "    for t in pos_tokens:\n",
    "        word = t[0]\n",
    "        pos_type = t[1] # access grammar type\n",
    "        wordnet_pos = get_wordnet_pos(pos_type)\n",
    "        stems.append(lemmatizer.lemmatize(t[0], pos = wordnet_pos)) # access word and stem\n",
    "    \n",
    "    return stop_removal, stems, pos_tokens\n",
    "\n",
    "def word_frequency_dist(tokens: list):\n",
    "    \"\"\"This function shows the frequency distribution of the top 30 most common words in the text.\"\"\"\n",
    "    fdist = nltk.FreqDist(tokens)\n",
    "    return fdist.plot(30, cumulative = False)\n"
   ]
  },
  {
   "cell_type": "code",
   "execution_count": 73,
   "metadata": {},
   "outputs": [],
   "source": [
    "SNOW = extract_text_from_pdf(\"Data/SNOW_Q224.pdf\")\n",
    "removed_stopwords, word_stems, pos_tags = preprocess_text(SNOW)"
   ]
  },
  {
   "cell_type": "code",
   "execution_count": 74,
   "metadata": {},
   "outputs": [
    {
     "name": "stdout",
     "output_type": "stream",
     "text": [
      "['corrected', 'transcript', 'total', 'pages', '22'] ['correct', 'transcript', 'total', 'page', '22'] [('corrected', 'VBN'), ('transcript', 'NN'), ('total', 'JJ'), ('pages', 'NNS'), ('22', 'CD')]\n"
     ]
    }
   ],
   "source": [
    "print(removed_stopwords[:5], word_stems[:5], pos_tags[:5])"
   ]
  },
  {
   "cell_type": "code",
   "execution_count": 75,
   "metadata": {},
   "outputs": [
    {
     "data": {
      "image/png": "[encoded data removed]",
      "text/plain": [
       "<Figure size 432x288 with 1 Axes>"
      ]
     },
     "metadata": {
      "needs_background": "light"
     },
     "output_type": "display_data"
    },
    {
     "data": {
      "text/plain": [
       "<AxesSubplot:xlabel='Samples', ylabel='Counts'>"
      ]
     },
     "execution_count": 75,
     "metadata": {},
     "output_type": "execute_result"
    }
   ],
   "source": [
    "word_frequency_dist(word_stems)"
   ]
  }
 ],
 "metadata": {
  "kernelspec": {
   "display_name": "Python 3",
   "language": "python",
   "name": "python3"
  },
  "language_info": {
   "codemirror_mode": {
    "name": "ipython",
    "version": 3
   },
   "file_extension": ".py",
   "mimetype": "text/x-python",
   "name": "python",
   "nbconvert_exporter": "python",
   "pygments_lexer": "ipython3",
   "version": "3.9.7"
  },
  "orig_nbformat": 4
 },
 "nbformat": 4,
 "nbformat_minor": 2
}
