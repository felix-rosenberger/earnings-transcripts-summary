{
 "cells": [
  {
   "cell_type": "code",
   "execution_count": 86,
   "metadata": {},
   "outputs": [],
   "source": [
    "import PyPDF2\n",
    "import nltk\n",
    "import spacy\n",
    "#nltk.download('stopwords')\n",
    "from nltk.corpus import stopwords, wordnet\n",
    "import string\n",
    "import re\n",
    "import matplotlib.pyplot as plt"
   ]
  },
  {
   "cell_type": "code",
   "execution_count": 93,
   "metadata": {},
   "outputs": [],
   "source": [
    "# define the class\n",
    "class EarningsAnalysis:\n",
    "    def __init__(self, company_name, quarter):\n",
    "        # Validate company name\n",
    "        if not company_name.islower():\n",
    "            raise ValueError(\"Company name should be in lowercase.\")\n",
    "        self.company_name = company_name\n",
    "\n",
    "        # Validate quarter format\n",
    "        quarter_pattern = r\"^Q[1-4]\\d{2}$\"\n",
    "        if not re.match(quarter_pattern, quarter):\n",
    "            raise ValueError(\"Quarter should be in the format Q[1,2,3,4]YY.\")\n",
    "        self.quarter = quarter\n",
    "\n",
    "    def extract_text_from_pdf(self, pdf_path: str):\n",
    "        \"\"\"\n",
    "        This method extracts text from a PDF doc into a single stream of text.\n",
    "        \"\"\"\n",
    "        text = \"\"\n",
    "        with open(pdf_path, \"rb\") as pdf_file:\n",
    "            pdf_reader = PyPDF2.PdfReader(pdf_file)\n",
    "            for page_num in range(len(pdf_reader.pages)):\n",
    "                page = pdf_reader.pages[page_num]\n",
    "                text += page.extract_text()\n",
    "        return text\n",
    "\n",
    "    def preprocess_words(self, text: str):\n",
    "        \"\"\"\n",
    "        This method breaks down the pdf text into tokens of words.\n",
    "        \"\"\"\n",
    "        singles_removed = re.sub(r'\\s+[a-zA-Z]\\s', ' ', text)\n",
    "        tokens = nltk.word_tokenize(singles_removed)\n",
    "        clean_tokens = [token.lower() for token in tokens if token.isalnum()]\n",
    "        stop_all = stopwords.words('english') + list(string.punctuation)\n",
    "        stop_removal = [stop for stop in clean_tokens if stop not in stop_all]\n",
    "        pos_tokens = nltk.pos_tag(stop_removal)\n",
    "\n",
    "        lemmatizer = nltk.WordNetLemmatizer()\n",
    "        stems = []\n",
    "        for t in pos_tokens:\n",
    "            word = t[0]\n",
    "            pos_type = t[1]\n",
    "            wordnet_pos = self.get_wordnet_pos(pos_type)\n",
    "            stems.append(lemmatizer.lemmatize(word, pos=wordnet_pos))\n",
    "        return stop_removal, stems, pos_tokens\n",
    "\n",
    "    def extract_keywords(self, tokens: list, num_ngrams: int):\n",
    "        \"\"\"\n",
    "        This method extracts relevant keywords using n-grams.\n",
    "        \"\"\"\n",
    "        ngrams = nltk.ngrams(tokens, num_ngrams)\n",
    "        ngram_freq = nltk.FreqDist(ngrams)\n",
    "        \n",
    "        stopwords_custom = [\"company_name\", \"financial_term\", \"common_jargon\"]  # Define domain-specific stopwords\n",
    "        \n",
    "        keywords = [ngram for ngram in ngram_freq if ngram[0] not in stopwords_custom and ngram[1] not in stopwords_custom]\n",
    "        return keywords, ngram_freq\n",
    "\n",
    "    def get_wordnet_pos(self, treebank_tag):\n",
    "        if treebank_tag.startswith('J'):\n",
    "            return wordnet.ADJ\n",
    "        elif treebank_tag.startswith('V'):\n",
    "            return wordnet.VERB\n",
    "        elif treebank_tag.startswith('N'):\n",
    "            return wordnet.NOUN\n",
    "        elif treebank_tag.startswith('R'):\n",
    "            return wordnet.ADV\n",
    "        else:\n",
    "            return wordnet.NOUN  # Default to noun if POS tag is not recognized\n",
    "\n",
    "    def word_frequency_dist(self, tokens: list):\n",
    "        fdist = nltk.FreqDist(tokens)\n",
    "        fdist.plot(30, cumulative=False, title=\"Top 30 Most Common Words\")\n",
    "\n",
    "    def preprocess_sentences(self, text: str):\n",
    "        \"\"\"\n",
    "        This method breaks down the pdf text into tokens of sentences which is \n",
    "        more useful for later methods to provide context about topics discussed in the call.\n",
    "        \"\"\"\n",
    "        #singles_removed = re.sub(r'\\s+[a-zA-Z]\\s', ' ', text)\n",
    "        tokens = nltk.sent_tokenize(text)\n",
    "        clean_tokens = [token.lower() for token in tokens if token.isalnum()]\n",
    "        stop_all = stopwords.words('english') + list(string.punctuation)\n",
    "        stop_removal = [stop for stop in clean_tokens if stop not in stop_all]\n",
    "        pos_tokens = nltk.pos_tag(stop_removal)\n",
    "\n",
    "        lemmatizer = nltk.WordNetLemmatizer()\n",
    "        stems = []\n",
    "        for t in pos_tokens:\n",
    "            word = t[0]\n",
    "            pos_type = t[1]\n",
    "            wordnet_pos = self.get_wordnet_pos(pos_type)\n",
    "            stems.append(lemmatizer.lemmatize(word, pos=wordnet_pos))\n",
    "        return stop_removal, stems, pos_tokens\n"
   ]
  },
  {
   "cell_type": "code",
   "execution_count": 94,
   "metadata": {},
   "outputs": [
    {
     "data": {
      "image/png": "[encoded data removed]",
      "text/plain": [
       "<Figure size 432x288 with 1 Axes>"
      ]
     },
     "metadata": {
      "needs_background": "light"
     },
     "output_type": "display_data"
    }
   ],
   "source": [
    "earnings_analysis = EarningsAnalysis()\n",
    "snowflake = earnings_analysis.extract_text_from_pdf(\"Data/SNOW_Q224.pdf\")\n",
    "removed_stopwords, word_stems, pos_tags = earnings_analysis.preprocess_text(snowflake)\n",
    "earnings_analysis.word_frequency_dist(word_stems)"
   ]
  },
  {
   "cell_type": "code",
   "execution_count": null,
   "metadata": {},
   "outputs": [],
   "source": []
  }
 ],
 "metadata": {
  "kernelspec": {
   "display_name": "Python 3",
   "language": "python",
   "name": "python3"
  },
  "language_info": {
   "codemirror_mode": {
    "name": "ipython",
    "version": 3
   },
   "file_extension": ".py",
   "mimetype": "text/x-python",
   "name": "python",
   "nbconvert_exporter": "python",
   "pygments_lexer": "ipython3",
   "version": "3.9.7"
  },
  "orig_nbformat": 4
 },
 "nbformat": 4,
 "nbformat_minor": 2
}
